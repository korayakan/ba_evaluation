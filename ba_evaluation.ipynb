{
  "nbformat": 4,
  "nbformat_minor": 0,
  "metadata": {
    "colab": {
      "name": "Untitled2.ipynb",
      "version": "0.3.2",
      "provenance": [],
      "private_outputs": true
    },
    "kernelspec": {
      "name": "python3",
      "display_name": "Python 3"
    },
    "accelerator": "GPU"
  },
  "cells": [
    {
      "cell_type": "code",
      "metadata": {
        "id": "rpvrpUSs2dit",
        "colab_type": "code",
        "colab": {}
      },
      "source": [
        "!pip install -q fuzzywuzzy[speedup]"
      ],
      "execution_count": 0,
      "outputs": []
    },
    {
      "cell_type": "code",
      "metadata": {
        "id": "l2KUBV_QLm0t",
        "colab_type": "code",
        "colab": {}
      },
      "source": [
        "![ -d \"ba_dataset\" ] && echo \"Dataset directory exists.\"\n",
        "![ ! -d \"ba_dataset\" ] && echo \"Dataset directory DOES NOT exist. Cloning from Github...\" && git clone -q https://github.com/korayakan/ba_dataset.git && rm -rf ba_dataset/.git && echo \"Done\""
      ],
      "execution_count": 0,
      "outputs": []
    },
    {
      "cell_type": "code",
      "metadata": {
        "id": "woctfoLtKjDd",
        "colab_type": "code",
        "colab": {}
      },
      "source": [
        "!echo \"Cloning module code from Github...\" && rm -rf ba && git clone -q https://github.com/korayakan/ba.git && rm -rf ba/.git && echo \"Done\"\n",
        "!echo \"Cloning pretrained net from Github...\" && rm -rf pretrained_net && git clone -q https://github.com/korayakan/pretrained_net.git && rm -rf ba/.git && echo \"Done\""
      ],
      "execution_count": 0,
      "outputs": []
    },
    {
      "cell_type": "code",
      "metadata": {
        "id": "4APZvXomK-2q",
        "colab_type": "code",
        "colab": {}
      },
      "source": [
        "from sklearn import metrics\n",
        "from ba.module import predict, data\n",
        "\n",
        "expected = []\n",
        "predicted = []\n",
        "for filename in data.get_test_files():\n",
        "  #print('File: ' + filename)\n",
        "  expected.extend(predict.get_expected_tags(filename))\n",
        "  predicted.extend(predict.get_predicted_tags(filename, 'pretrained_net/ba_model.pt'))\n",
        "  \n",
        "print(metrics.confusion_matrix(expected, predicted))\n",
        "print(metrics.classification_report(expected, predicted, digits=3))\n"
      ],
      "execution_count": 0,
      "outputs": []
    }
  ]
}